{
 "cells": [
  {
   "cell_type": "code",
   "execution_count": 2,
   "id": "f56b486e",
   "metadata": {},
   "outputs": [],
   "source": [
    "import pandas as pd\n",
    "\n",
    "# Define the schema data\n",
    "schema_data = {\n",
    "    \"Column Name\": [\n",
    "        \"age\", \"workclass\", \"fnlwgt\", \"education\", \"education-num\", \n",
    "        \"marital-status\", \"occupation\", \"relationship\", \"race\", \"sex\", \n",
    "        \"capital-gain\", \"capital-loss\", \"hours-per-week\", \"native-country\", \"Income\"\n",
    "    ],\n",
    "    \"Description\": [\n",
    "        \"Numeric variable representing the age of the individual\",\n",
    "        \"Categorical variable indicating the type of workclass\",\n",
    "        \"Numeric variable representing the final weight\",\n",
    "        \"Categorical variable representing the highest level of education achieved\",\n",
    "        \"Numeric variable representing the highest level of education in numerical form\",\n",
    "        \"Categorical variable representing the marital status of the individual\",\n",
    "        \"Categorical variable representing the occupation of the individual\",\n",
    "        \"Categorical variable representing the relationship status of the individual\",\n",
    "        \"Categorical variable representing the race of the individual\",\n",
    "        \"Categorical variable representing the gender of the individual\",\n",
    "        \"Numeric variable representing the capital gains of the individual\",\n",
    "        \"Numeric variable representing the capital losses of the individual\",\n",
    "        \"Numeric variable representing the number of hours worked per week\",\n",
    "        \"Categorical variable representing the native country of the individual\",\n",
    "        \"Categorical variable indicating whether the individual's income is above or below $50,000 per year\"\n",
    "    ]\n",
    "}"
   ]
  },
  {
   "cell_type": "code",
   "execution_count": 3,
   "id": "6f75a1ba",
   "metadata": {},
   "outputs": [],
   "source": [
    "# Create DataFrame\n",
    "schema_df = pd.DataFrame(schema_data)"
   ]
  },
  {
   "cell_type": "code",
   "execution_count": 4,
   "id": "32e6e8a1",
   "metadata": {},
   "outputs": [],
   "source": [
    "# Save to CSV\n",
    "schema_df.to_csv(\"data_schema.csv\", index=False)"
   ]
  },
  {
   "cell_type": "code",
   "execution_count": 5,
   "id": "b3ed3170",
   "metadata": {},
   "outputs": [
    {
     "name": "stdout",
     "output_type": "stream",
     "text": [
      "Schema saved to 'data_schema.csv'\n"
     ]
    }
   ],
   "source": [
    "print(\"Schema saved to 'data_schema.csv'\")"
   ]
  },
  {
   "cell_type": "code",
   "execution_count": null,
   "id": "0373dd41",
   "metadata": {},
   "outputs": [],
   "source": []
  }
 ],
 "metadata": {
  "kernelspec": {
   "display_name": "Python 3",
   "language": "python",
   "name": "python3"
  },
  "language_info": {
   "codemirror_mode": {
    "name": "ipython",
    "version": 3
   },
   "file_extension": ".py",
   "mimetype": "text/x-python",
   "name": "python",
   "nbconvert_exporter": "python",
   "pygments_lexer": "ipython3",
   "version": "3.8.8"
  }
 },
 "nbformat": 4,
 "nbformat_minor": 5
}
